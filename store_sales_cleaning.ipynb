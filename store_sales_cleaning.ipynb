{
 "cells": [
  {
   "cell_type": "markdown",
   "id": "4ee6c035",
   "metadata": {},
   "source": [
    "# 🧼 Data Cleaning: Store Sales Dataset"
   ]
  },
  {
   "cell_type": "code",
   "execution_count": null,
   "id": "0cba5b1c",
   "metadata": {},
   "outputs": [
    {
     "name": "stdout",
     "output_type": "stream",
     "text": [
      "190\n"
     ]
    }
   ],
   "source": [
    "import pandas as pd\n",
    "\n",
    "# Load the dataset\n",
    "df = pd.read_csv('store_sales_dirty_data.csv')\n",
    "\n",
    "# Preview the first few rows\n",
    "df.head()\n"
   ]
  },
  {
   "cell_type": "markdown",
   "id": "e00844d9",
   "metadata": {},
   "source": [
    "## Step 2: Explore the Structure and Data Types"
   ]
  },
  {
   "cell_type": "code",
   "execution_count": null,
   "id": "b93b4d79",
   "metadata": {},
   "outputs": [
    {
     "name": "stdout",
     "output_type": "stream",
     "text": [
      "<class 'pandas.core.frame.DataFrame'>\n",
      "RangeIndex: 30 entries, 0 to 29\n",
      "Data columns (total 7 columns):\n",
      " #   Column        Non-Null Count  Dtype  \n",
      "---  ------        --------------  -----  \n",
      " 0   ID            30 non-null     int64  \n",
      " 1   Product Name  27 non-null     object \n",
      " 2   Category      24 non-null     object \n",
      " 3   Quantity      21 non-null     float64\n",
      " 4   Unit Price    20 non-null     float64\n",
      " 5   Sale Date     22 non-null     object \n",
      " 6   Store         30 non-null     object \n",
      "dtypes: float64(2), int64(1), object(4)\n",
      "memory usage: 1.8+ KB\n"
     ]
    },
    {
     "data": {
      "text/html": [
       "<div>\n",
       "<style scoped>\n",
       "    .dataframe tbody tr th:only-of-type {\n",
       "        vertical-align: middle;\n",
       "    }\n",
       "\n",
       "    .dataframe tbody tr th {\n",
       "        vertical-align: top;\n",
       "    }\n",
       "\n",
       "    .dataframe thead th {\n",
       "        text-align: right;\n",
       "    }\n",
       "</style>\n",
       "<table border=\"1\" class=\"dataframe\">\n",
       "  <thead>\n",
       "    <tr style=\"text-align: right;\">\n",
       "      <th></th>\n",
       "      <th>ID</th>\n",
       "      <th>Product Name</th>\n",
       "      <th>Category</th>\n",
       "      <th>Quantity</th>\n",
       "      <th>Unit Price</th>\n",
       "      <th>Sale Date</th>\n",
       "      <th>Store</th>\n",
       "    </tr>\n",
       "  </thead>\n",
       "  <tbody>\n",
       "    <tr>\n",
       "      <th>count</th>\n",
       "      <td>30.000000</td>\n",
       "      <td>27</td>\n",
       "      <td>24</td>\n",
       "      <td>21.000000</td>\n",
       "      <td>20.000000</td>\n",
       "      <td>22</td>\n",
       "      <td>30</td>\n",
       "    </tr>\n",
       "    <tr>\n",
       "      <th>unique</th>\n",
       "      <td>NaN</td>\n",
       "      <td>7</td>\n",
       "      <td>5</td>\n",
       "      <td>NaN</td>\n",
       "      <td>NaN</td>\n",
       "      <td>18</td>\n",
       "      <td>3</td>\n",
       "    </tr>\n",
       "    <tr>\n",
       "      <th>top</th>\n",
       "      <td>NaN</td>\n",
       "      <td>Eggs</td>\n",
       "      <td>Dairy</td>\n",
       "      <td>NaN</td>\n",
       "      <td>NaN</td>\n",
       "      <td>2023/07/15</td>\n",
       "      <td>Store A</td>\n",
       "    </tr>\n",
       "    <tr>\n",
       "      <th>freq</th>\n",
       "      <td>NaN</td>\n",
       "      <td>6</td>\n",
       "      <td>8</td>\n",
       "      <td>NaN</td>\n",
       "      <td>NaN</td>\n",
       "      <td>4</td>\n",
       "      <td>15</td>\n",
       "    </tr>\n",
       "    <tr>\n",
       "      <th>mean</th>\n",
       "      <td>15.500000</td>\n",
       "      <td>NaN</td>\n",
       "      <td>NaN</td>\n",
       "      <td>6.142857</td>\n",
       "      <td>1.725000</td>\n",
       "      <td>NaN</td>\n",
       "      <td>NaN</td>\n",
       "    </tr>\n",
       "    <tr>\n",
       "      <th>std</th>\n",
       "      <td>8.803408</td>\n",
       "      <td>NaN</td>\n",
       "      <td>NaN</td>\n",
       "      <td>4.003570</td>\n",
       "      <td>1.875921</td>\n",
       "      <td>NaN</td>\n",
       "      <td>NaN</td>\n",
       "    </tr>\n",
       "    <tr>\n",
       "      <th>min</th>\n",
       "      <td>1.000000</td>\n",
       "      <td>NaN</td>\n",
       "      <td>NaN</td>\n",
       "      <td>0.000000</td>\n",
       "      <td>-2.500000</td>\n",
       "      <td>NaN</td>\n",
       "      <td>NaN</td>\n",
       "    </tr>\n",
       "    <tr>\n",
       "      <th>25%</th>\n",
       "      <td>8.250000</td>\n",
       "      <td>NaN</td>\n",
       "      <td>NaN</td>\n",
       "      <td>3.000000</td>\n",
       "      <td>1.500000</td>\n",
       "      <td>NaN</td>\n",
       "      <td>NaN</td>\n",
       "    </tr>\n",
       "    <tr>\n",
       "      <th>50%</th>\n",
       "      <td>15.500000</td>\n",
       "      <td>NaN</td>\n",
       "      <td>NaN</td>\n",
       "      <td>5.000000</td>\n",
       "      <td>1.750000</td>\n",
       "      <td>NaN</td>\n",
       "      <td>NaN</td>\n",
       "    </tr>\n",
       "    <tr>\n",
       "      <th>75%</th>\n",
       "      <td>22.750000</td>\n",
       "      <td>NaN</td>\n",
       "      <td>NaN</td>\n",
       "      <td>10.000000</td>\n",
       "      <td>3.750000</td>\n",
       "      <td>NaN</td>\n",
       "      <td>NaN</td>\n",
       "    </tr>\n",
       "    <tr>\n",
       "      <th>max</th>\n",
       "      <td>30.000000</td>\n",
       "      <td>NaN</td>\n",
       "      <td>NaN</td>\n",
       "      <td>10.000000</td>\n",
       "      <td>3.750000</td>\n",
       "      <td>NaN</td>\n",
       "      <td>NaN</td>\n",
       "    </tr>\n",
       "  </tbody>\n",
       "</table>\n",
       "</div>"
      ],
      "text/plain": [
       "               ID Product Name Category   Quantity  Unit Price   Sale Date  \\\n",
       "count   30.000000           27       24  21.000000   20.000000          22   \n",
       "unique        NaN            7        5        NaN         NaN          18   \n",
       "top           NaN         Eggs    Dairy        NaN         NaN  2023/07/15   \n",
       "freq          NaN            6        8        NaN         NaN           4   \n",
       "mean    15.500000          NaN      NaN   6.142857    1.725000         NaN   \n",
       "std      8.803408          NaN      NaN   4.003570    1.875921         NaN   \n",
       "min      1.000000          NaN      NaN   0.000000   -2.500000         NaN   \n",
       "25%      8.250000          NaN      NaN   3.000000    1.500000         NaN   \n",
       "50%     15.500000          NaN      NaN   5.000000    1.750000         NaN   \n",
       "75%     22.750000          NaN      NaN  10.000000    3.750000         NaN   \n",
       "max     30.000000          NaN      NaN  10.000000    3.750000         NaN   \n",
       "\n",
       "          Store  \n",
       "count        30  \n",
       "unique        3  \n",
       "top     Store A  \n",
       "freq         15  \n",
       "mean        NaN  \n",
       "std         NaN  \n",
       "min         NaN  \n",
       "25%         NaN  \n",
       "50%         NaN  \n",
       "75%         NaN  \n",
       "max         NaN  "
      ]
     },
     "execution_count": 14,
     "metadata": {},
     "output_type": "execute_result"
    }
   ],
   "source": [
    "df.info()\n",
    "df.describe(include='all')"
   ]
  },
  {
   "cell_type": "markdown",
   "id": "d8165106",
   "metadata": {},
   "source": [
    "## Step 3: Handle Missing Values"
   ]
  },
  {
   "cell_type": "code",
   "execution_count": null,
   "id": "3df8ba77",
   "metadata": {},
   "outputs": [
    {
     "ename": "AttributeError",
     "evalue": "module 'pandas' has no attribute 'NAppppp'",
     "output_type": "error",
     "traceback": [
      "\u001b[31m---------------------------------------------------------------------------\u001b[39m",
      "\u001b[31mAttributeError\u001b[39m                            Traceback (most recent call last)",
      "\u001b[36mCell\u001b[39m\u001b[36m \u001b[39m\u001b[32mIn[39]\u001b[39m\u001b[32m, line 1\u001b[39m\n\u001b[32m----> \u001b[39m\u001b[32m1\u001b[39m df.replace([\u001b[33m'\u001b[39m\u001b[33m'\u001b[39m, \u001b[33m'\u001b[39m\u001b[33mNaN\u001b[39m\u001b[33m'\u001b[39m], \u001b[43mpd\u001b[49m\u001b[43m.\u001b[49m\u001b[43mNAppppp\u001b[49m, inplace=\u001b[38;5;28;01mTrue\u001b[39;00m)\n\u001b[32m      3\u001b[39m \u001b[38;5;66;03m# Drop rows with missing product name or store\u001b[39;00m\n\u001b[32m      4\u001b[39m df.dropna(subset=[\u001b[33m'\u001b[39m\u001b[33mProduct Name\u001b[39m\u001b[33m'\u001b[39m, \u001b[33m'\u001b[39m\u001b[33mStore\u001b[39m\u001b[33m'\u001b[39m], inplace=\u001b[38;5;28;01mTrue\u001b[39;00m)\n",
      "\u001b[31mAttributeError\u001b[39m: module 'pandas' has no attribute 'NAppppp'"
     ]
    }
   ],
   "source": [
    "df.replace(['', 'NaN'], pd.NA, inplace=True)\n",
    "\n",
    "# Drop rows with missing product name or store\n",
    "df.dropna(subset=['Product Name', 'Store'], inplace=True)\n",
    "\n",
    "# Convert Quantity and Unit Price to numeric\n",
    "df['Quantity'] = pd.to_numeric(df['Quantity'], errors='coerce')\n",
    "df['Unit Price'] = pd.to_numeric(df['Unit Price'], errors='coerce')\n",
    "\n",
    "# Fill missing values with median\n",
    "df['Quantity'] = df['Quantity'].fillna(df['Quantity'].median())\n",
    "df['Unit Price'] = df['Unit Price'].fillna(df['Unit Price'].median())\n",
    "\n",
    "print(df)\n"
   ]
  },
  {
   "cell_type": "markdown",
   "id": "51d450f7",
   "metadata": {},
   "source": [
    "## Step 4: Clean the 'Sale Date' Column"
   ]
  },
  {
   "cell_type": "code",
   "execution_count": null,
   "id": "e80bb476",
   "metadata": {},
   "outputs": [],
   "source": [
    "df['Sale Date'] = pd.to_datetime(df['Sale Date'], errors='coerce', dayfirst=True)\n",
    "\n",
    "# Drop rows with invalid dates\n",
    "df.dropna(subset=['Sale Date'], inplace=True)"
   ]
  },
  {
   "cell_type": "markdown",
   "id": "4c42ab50",
   "metadata": {},
   "source": [
    "## Step 5: Remove Invalid or Suspicious Values"
   ]
  },
  {
   "cell_type": "code",
   "execution_count": null,
   "id": "40c71239",
   "metadata": {},
   "outputs": [],
   "source": [
    "df = df[(df['Unit Price'] > 0) & (df['Quantity'] > 0)]"
   ]
  },
  {
   "cell_type": "markdown",
   "id": "61306f2e",
   "metadata": {},
   "source": [
    "## Step 6: Remove Duplicates"
   ]
  },
  {
   "cell_type": "code",
   "execution_count": null,
   "id": "e9002fef",
   "metadata": {},
   "outputs": [],
   "source": [
    "df.drop_duplicates(inplace=True)"
   ]
  },
  {
   "cell_type": "markdown",
   "id": "4091b30e",
   "metadata": {},
   "source": [
    "## Step 7: Final Check and Save"
   ]
  },
  {
   "cell_type": "code",
   "execution_count": null,
   "id": "1b0142e8",
   "metadata": {},
   "outputs": [
    {
     "name": "stdout",
     "output_type": "stream",
     "text": [
      "<class 'pandas.core.frame.DataFrame'>\n",
      "Index: 5 entries, 0 to 28\n",
      "Data columns (total 7 columns):\n",
      " #   Column        Non-Null Count  Dtype         \n",
      "---  ------        --------------  -----         \n",
      " 0   ID            5 non-null      int64         \n",
      " 1   Product Name  5 non-null      object        \n",
      " 2   Category      3 non-null      object        \n",
      " 3   Quantity      5 non-null      float64       \n",
      " 4   Unit Price    5 non-null      float64       \n",
      " 5   Sale Date     5 non-null      datetime64[ns]\n",
      " 6   Store         5 non-null      object        \n",
      "dtypes: datetime64[ns](1), float64(2), int64(1), object(3)\n",
      "memory usage: 320.0+ bytes\n"
     ]
    }
   ],
   "source": [
    "df.info()\n",
    "df.head()\n",
    "\n",
    "# Save cleaned file\n",
    "df.to_csv('store_sales_cleaned.csv', index=False)"
   ]
  },
  {
   "cell_type": "markdown",
   "id": "c941d99f",
   "metadata": {},
   "source": [
    "## Optional: Add Total Sale Column"
   ]
  },
  {
   "cell_type": "code",
   "execution_count": null,
   "id": "ff08d6e1",
   "metadata": {},
   "outputs": [
    {
     "data": {
      "text/html": [
       "<div>\n",
       "<style scoped>\n",
       "    .dataframe tbody tr th:only-of-type {\n",
       "        vertical-align: middle;\n",
       "    }\n",
       "\n",
       "    .dataframe tbody tr th {\n",
       "        vertical-align: top;\n",
       "    }\n",
       "\n",
       "    .dataframe thead th {\n",
       "        text-align: right;\n",
       "    }\n",
       "</style>\n",
       "<table border=\"1\" class=\"dataframe\">\n",
       "  <thead>\n",
       "    <tr style=\"text-align: right;\">\n",
       "      <th></th>\n",
       "      <th>ID</th>\n",
       "      <th>Product Name</th>\n",
       "      <th>Category</th>\n",
       "      <th>Quantity</th>\n",
       "      <th>Unit Price</th>\n",
       "      <th>Sale Date</th>\n",
       "      <th>Store</th>\n",
       "      <th>Total Sale</th>\n",
       "    </tr>\n",
       "  </thead>\n",
       "  <tbody>\n",
       "    <tr>\n",
       "      <th>0</th>\n",
       "      <td>1</td>\n",
       "      <td>Milk</td>\n",
       "      <td>Household</td>\n",
       "      <td>7.5</td>\n",
       "      <td>2.00</td>\n",
       "      <td>2023-07-13</td>\n",
       "      <td>Store B</td>\n",
       "      <td>15.00</td>\n",
       "    </tr>\n",
       "    <tr>\n",
       "      <th>1</th>\n",
       "      <td>2</td>\n",
       "      <td>Eggs</td>\n",
       "      <td>NaN</td>\n",
       "      <td>10.0</td>\n",
       "      <td>2.00</td>\n",
       "      <td>2023-07-10</td>\n",
       "      <td>Store A</td>\n",
       "      <td>20.00</td>\n",
       "    </tr>\n",
       "    <tr>\n",
       "      <th>7</th>\n",
       "      <td>8</td>\n",
       "      <td>Cheese</td>\n",
       "      <td>Household</td>\n",
       "      <td>7.5</td>\n",
       "      <td>2.00</td>\n",
       "      <td>2023-07-23</td>\n",
       "      <td>Store C</td>\n",
       "      <td>15.00</td>\n",
       "    </tr>\n",
       "    <tr>\n",
       "      <th>10</th>\n",
       "      <td>11</td>\n",
       "      <td>Bread</td>\n",
       "      <td>Household</td>\n",
       "      <td>1.0</td>\n",
       "      <td>3.75</td>\n",
       "      <td>2023-07-08</td>\n",
       "      <td>Store A</td>\n",
       "      <td>3.75</td>\n",
       "    </tr>\n",
       "    <tr>\n",
       "      <th>28</th>\n",
       "      <td>29</td>\n",
       "      <td>Cheese</td>\n",
       "      <td>NaN</td>\n",
       "      <td>3.0</td>\n",
       "      <td>2.00</td>\n",
       "      <td>2023-07-15</td>\n",
       "      <td>Store B</td>\n",
       "      <td>6.00</td>\n",
       "    </tr>\n",
       "  </tbody>\n",
       "</table>\n",
       "</div>"
      ],
      "text/plain": [
       "    ID Product Name   Category  Quantity  Unit Price  Sale Date    Store  \\\n",
       "0    1         Milk  Household       7.5        2.00 2023-07-13  Store B   \n",
       "1    2         Eggs        NaN      10.0        2.00 2023-07-10  Store A   \n",
       "7    8       Cheese  Household       7.5        2.00 2023-07-23  Store C   \n",
       "10  11        Bread  Household       1.0        3.75 2023-07-08  Store A   \n",
       "28  29       Cheese        NaN       3.0        2.00 2023-07-15  Store B   \n",
       "\n",
       "    Total Sale  \n",
       "0        15.00  \n",
       "1        20.00  \n",
       "7        15.00  \n",
       "10        3.75  \n",
       "28        6.00  "
      ]
     },
     "execution_count": 10,
     "metadata": {},
     "output_type": "execute_result"
    }
   ],
   "source": [
    "df['Total Sale'] = df['Quantity'] * df['Unit Price']\n",
    "df.head()"
   ]
  }
 ],
 "metadata": {
  "kernelspec": {
   "display_name": "Python 3",
   "language": "python",
   "name": "python3"
  },
  "language_info": {
   "codemirror_mode": {
    "name": "ipython",
    "version": 3
   },
   "file_extension": ".py",
   "mimetype": "text/x-python",
   "name": "python",
   "nbconvert_exporter": "python",
   "pygments_lexer": "ipython3",
   "version": "3.13.2"
  }
 },
 "nbformat": 4,
 "nbformat_minor": 5
}
